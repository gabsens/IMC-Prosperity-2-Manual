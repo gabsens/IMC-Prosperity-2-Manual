{
 "cells": [
  {
   "cell_type": "code",
   "execution_count": 1,
   "id": "1bf54672-86e6-411a-b375-97d18f919e76",
   "metadata": {},
   "outputs": [],
   "source": [
    "import numpy as np\n",
    "import math"
   ]
  },
  {
   "cell_type": "markdown",
   "id": "c43bc46e-8f61-4f9f-be5d-66e256c8e2df",
   "metadata": {},
   "source": [
    "# Problem statement\n",
    "*Note*: this problem is an extension of the problem from Round 1.\n",
    "\n",
    "The goldfish are back with more `SCUBA_GEAR`. Each of the goldfish will have new reserve prices, but they still follow the same distribution as in Round 1.\n",
    "\n",
    "Your trade options are similar to before. You’ll have two chances to offer a good price. Each one of the goldfish will accept the lowest bid that is over their reserve price. But this time, for your second bid, they also take into account the average of the second bids by other traders in the archipelago. They’ll trade with you when your offer is above the average of all second bids. But if you end up under the average, the probability of a deal decreases rapidly.\n",
    "\n",
    "To simulate this probability, the PNL obtained from trading with a fish for which your second bid is under the average of all second bids will be scaled by a factor *p*:\n",
    "\n",
    "$$\n",
    "p = (1000 – \\text{average bid}) / (1000 – \\text{your bid})\n",
    "$$\n",
    "\n",
    "What can you learn from the available data and how will you anticipate on this new dynamic?\n",
    "\n",
    "# Solution\n",
    "\n",
    "\n",
    "Let $\\bar p$ denote the (ex post) average of second (i.e., highest) bids over all teams in Round 4.\n",
    "\n",
    "With the notation from Round 1, the surrogate objective function (expected profit for a single fish) is  \n",
    "$$(p_l, p_h)\\mapsto (1000-p_l)\\int_{900}^{p_l} (\\alpha r + \\beta) dr + (1000-p_h)\\int_{p_l}^{p_h} (\\alpha r + \\beta) dr \n",
    "\\Big(1_{\\bar p \\leq p_h} + 1_{\\bar p > p_h} \\frac{1000-\\bar p}{1000-p_h}  \\Big).$$"
   ]
  },
  {
   "cell_type": "code",
   "execution_count": 2,
   "id": "7ca6a606-dd3b-454a-91ed-57bd637e69cc",
   "metadata": {},
   "outputs": [],
   "source": [
    "def solve(p_avg):\n",
    "    \"\"\"Given the average of second bids, find the optimal low and high bids.\n",
    "\n",
    "    Parameters\n",
    "    ----------\n",
    "    p_avg : float\n",
    "        Average value of second bids.\n",
    "    \n",
    "    Returns\n",
    "    -------\n",
    "    argmax : list of tuple\n",
    "        Maximizers and maximal profits.\n",
    "    \"\"\"\n",
    "    val_max = float('-inf')\n",
    "    argmax = []\n",
    "    for l in range(900, 1000):\n",
    "        for h in range(l, 1000):\n",
    "            temp = (1000 - l) * (-(9/50) * (-900 + l) + (-405000 + l**2/2)/5000)\n",
    "            temp2 = (1000 - h) * (-(9/50) * (h - l) + (h**2/2 - l**2/2)/5000)\n",
    "            val = temp + temp2 * (1 if p_avg <= h else (1000-p_avg)/(1000-h))\n",
    "            if math.isclose(val, val_max):\n",
    "                argmax.append((l, h, val))\n",
    "            if val > val_max:\n",
    "                val_max = val\n",
    "                argmax = [(l, h, val)]\n",
    "    return argmax"
   ]
  },
  {
   "cell_type": "code",
   "execution_count": 3,
   "id": "798eb9f5-07f8-45b5-90e4-b9512af7f58f",
   "metadata": {},
   "outputs": [
    {
     "name": "stdout",
     "output_type": "stream",
     "text": [
      "p_avg: 977.0   Maximizers: [(952, 978, 20.41520000000002)]\n",
      "p_avg: 977.5   Maximizers: [(952, 978, 20.41520000000002)]\n",
      "p_avg: 978.0   Maximizers: [(952, 978, 20.41520000000002)]\n",
      "p_avg: 978.5   Maximizers: [(953, 979, 20.409500000000047)]\n",
      "p_avg: 979.0   Maximizers: [(953, 979, 20.409500000000047)]\n",
      "p_avg: 979.5   Maximizers: [(953, 980, 20.384300000000053)]\n",
      "p_avg: 980.0   Maximizers: [(953, 980, 20.384300000000053)]\n",
      "p_avg: 980.5   Maximizers: [(954, 981, 20.339100000000045)]\n",
      "p_avg: 981.0   Maximizers: [(954, 981, 20.339100000000045)]\n",
      "p_avg: 981.5   Maximizers: [(955, 982, 20.270700000000016)]\n",
      "p_avg: 982.0   Maximizers: [(955, 982, 20.270700000000016)]\n",
      "p_avg: 982.5   Maximizers: [(955, 983, 20.18130000000001)]\n",
      "p_avg: 983.0   Maximizers: [(955, 983, 20.18130000000001)]\n",
      "p_avg: 983.5   Maximizers: [(956, 984, 20.07039999999997)]\n",
      "p_avg: 984.0   Maximizers: [(956, 984, 20.07039999999997)]\n",
      "p_avg: 984.5   Maximizers: [(957, 985, 19.934699999999975)]\n",
      "p_avg: 985.0   Maximizers: [(957, 985, 19.934699999999975)]\n",
      "p_avg: 985.5   Maximizers: [(957, 986, 19.776499999999977)]\n",
      "p_avg: 986.0   Maximizers: [(957, 986, 19.776499999999977)]\n",
      "p_avg: 986.5   Maximizers: [(958, 987, 19.595300000000055)]\n",
      "p_avg: 987.0   Maximizers: [(958, 987, 19.595300000000055)]\n",
      "p_avg: 987.5   Maximizers: [(959, 988, 19.387700000000024)]\n",
      "p_avg: 988.0   Maximizers: [(959, 988, 19.387700000000024)]\n",
      "p_avg: 988.5   Maximizers: [(959, 988, 19.174550000000025)]\n",
      "p_avg: 989.0   Maximizers: [(959, 989, 19.15610000000003)]\n",
      "p_avg: 989.5   Maximizers: [(960, 989, 18.93705000000005)]\n",
      "p_avg: 990.0   Maximizers: [(960, 990, 18.90000000000005)]\n",
      "p_avg: 990.5   Maximizers: [(960, 990, 18.67500000000005)]\n",
      "p_avg: 991.0   Maximizers: [(961, 991, 18.61589999999999)]\n",
      "p_avg: 991.5   Maximizers: [(961, 991, 18.38789999999999)]\n",
      "p_avg: 992.0   Maximizers: [(961, 992, 18.306299999999982)]\n",
      "p_avg: 992.5   Maximizers: [(962, 992, 18.07219999999998)]\n",
      "p_avg: 993.0   Maximizers: [(962, 993, 17.97069999999998)]\n",
      "p_avg: 993.5   Maximizers: [(962, 993, 17.73044999999998)]\n",
      "p_avg: 994.0   Maximizers: [(963, 994, 17.605500000000017)]\n",
      "p_avg: 994.5   Maximizers: [(963, 994, 17.362150000000018)]\n",
      "p_avg: 995.0   Maximizers: [(963, 995, 17.213300000000018)]\n",
      "p_avg: 995.5   Maximizers: [(964, 995, 16.963650000000037)]\n",
      "p_avg: 996.0   Maximizers: [(964, 996, 16.79360000000004)]\n",
      "p_avg: 996.5   Maximizers: [(964, 996, 16.53760000000004)]\n",
      "p_avg: 997.0   Maximizers: [(965, 997, 16.342700000000043)]\n",
      "p_avg: 997.5   Maximizers: [(965, 997, 16.083500000000043)]\n",
      "p_avg: 998.0   Maximizers: [(965, 998, 15.863300000000043)]\n",
      "p_avg: 998.5   Maximizers: [(966, 998, 15.59760000000003)]\n",
      "p_avg: 999.0   Maximizers: [(966, 999, 15.354900000000029)]\n",
      "p_avg: 999.5   Maximizers: [(966, 999, 15.08265000000003)]\n"
     ]
    }
   ],
   "source": [
    "for p_avg in np.arange(977,1000,0.5):\n",
    "    print(\"p_avg:\", p_avg, \"  Maximizers:\", solve(p_avg))"
   ]
  },
  {
   "cell_type": "markdown",
   "id": "0d455e48-d994-4907-83e8-476eccefaaff",
   "metadata": {},
   "source": [
    "As long as $\\bar p \\leq 978$, optimal bids are the same as in Round 1.  \n",
    "When $\\bar p > 978$, the maximal profit decreases and the maximizers change as well.\n",
    "\n",
    "If all the teams seeked to maximize their own profit, they would all play $(952, 978)$."
   ]
  },
  {
   "cell_type": "markdown",
   "id": "d13528d0-63fc-403d-b151-9228e13778dc",
   "metadata": {},
   "source": [
    "# Results"
   ]
  },
  {
   "cell_type": "markdown",
   "id": "ae0a93dd-1fcb-4d52-8c60-a67dcb55f93b",
   "metadata": {},
   "source": [
    "As I expected $\\bar p$ to be slightly above $978$, I posited that $\\bar p = 979$ and played $(953, 979)$.\n",
    "\n",
    "<img src=\"https://i.imgur.com/gTAU4NX.png\" width=\"1200\" />\n",
    "\n",
    "The ex post value of $\\bar p$ was $980$."
   ]
  }
 ],
 "metadata": {
  "kernelspec": {
   "display_name": "Python 3 (ipykernel)",
   "language": "python",
   "name": "python3"
  },
  "language_info": {
   "codemirror_mode": {
    "name": "ipython",
    "version": 3
   },
   "file_extension": ".py",
   "mimetype": "text/x-python",
   "name": "python",
   "nbconvert_exporter": "python",
   "pygments_lexer": "ipython3",
   "version": "3.12.2"
  }
 },
 "nbformat": 4,
 "nbformat_minor": 5
}
