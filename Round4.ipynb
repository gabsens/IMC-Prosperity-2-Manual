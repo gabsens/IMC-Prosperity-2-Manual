{
 "cells": [
  {
   "cell_type": "code",
   "execution_count": 1,
   "id": "1bf54672-86e6-411a-b375-97d18f919e76",
   "metadata": {},
   "outputs": [],
   "source": [
    "import numpy as np\n",
    "import math"
   ]
  },
  {
   "cell_type": "markdown",
   "id": "c43bc46e-8f61-4f9f-be5d-66e256c8e2df",
   "metadata": {},
   "source": [
    "# Problem statement\n",
    "*Note*: this problem is an extension of the problem from Round 1.\n",
    "\n",
    "The goldfish are back with more `SCUBA_GEAR`. Each of the goldfish will have new reserve prices, but they still follow the same distribution as in Round 1.\n",
    "\n",
    "Your trade options are similar to before. You’ll have two chances to offer a good price. Each one of the goldfish will accept the lowest bid that is over their reserve price. But this time, for your second bid, they also take into account the average of the second bids by other traders in the archipelago. They’ll trade with you when your offer is above the average of all second bids. But if you end up under the average, the probability of a deal decreases rapidly.\n",
    "\n",
    "To simulate this probability, the PNL obtained from trading with a fish for which your second bid is under the average of all second bids will be scaled by a factor *p*:\n",
    "\n",
    "$$\n",
    "p = (1000 – \\text{average bid}) / (1000 – \\text{your bid})\n",
    "$$\n",
    "\n",
    "What can you learn from the available data and how will you anticipate on this new dynamic?\n",
    "\n",
    "# Solution\n",
    "\n",
    "\n",
    "Let $\\bar p$ denote the (ex post) average of second (i.e., highest) bids over all teams in Round 4.\n",
    "\n",
    "With the notation from Round 1, the surrogate objective function (expected profit for a single fish) is  \n",
    "$$(p_l, p_h)\\mapsto (1000-p_l)\\int_{900}^{p_l} (\\alpha r + \\beta) dr + (1000-p_h)\\int_{p_l}^{p_h} (\\alpha r + \\beta) dr \n",
    "\\Big(1_{\\bar p \\leq p_h} + 1_{\\bar p > p_h} \\frac{1000-\\bar p}{1000-p_h}  \\Big).$$"
   ]
  },
  {
   "cell_type": "code",
   "execution_count": 2,
   "id": "7ca6a606-dd3b-454a-91ed-57bd637e69cc",
   "metadata": {},
   "outputs": [],
   "source": [
    "def solve(p_avg):\n",
    "    \"\"\"Given the average of second bids, find the optimal low and high bids.\n",
    "\n",
    "    Parameters\n",
    "    ----------\n",
    "    p_avg : float\n",
    "        Average value of second bids.\n",
    "    \n",
    "    Returns\n",
    "    -------\n",
    "    argmax : list of tuple\n",
    "        Maximizers.\n",
    "    val_max : float\n",
    "        Maximal profit.\n",
    "    \"\"\"\n",
    "    val_max = float('-inf')\n",
    "    argmax = []\n",
    "    for l in range(900, 1000):\n",
    "        for h in range(l, 1000):\n",
    "            temp = (1000 - l) * (-(9/50) * (-900 + l) + (-405000 + l**2/2)/5000)\n",
    "            temp2 = (1000 - h) * (-(9/50) * (h - l) + (h**2/2 - l**2/2)/5000)\n",
    "            val = temp + temp2 * (1 if p_avg <= h else (1000-p_avg)/(1000-h))\n",
    "            if math.isclose(val, val_max):\n",
    "                argmax.append((l, h, val))\n",
    "            if val > val_max:\n",
    "                val_max = val\n",
    "                argmax = [(l, h)]\n",
    "    return argmax, val_max"
   ]
  },
  {
   "cell_type": "code",
   "execution_count": 3,
   "id": "798eb9f5-07f8-45b5-90e4-b9512af7f58f",
   "metadata": {},
   "outputs": [
    {
     "name": "stdout",
     "output_type": "stream",
     "text": [
      "p_avg: 977.0   Maximizer: (952, 978)  Profit: 20.42\n",
      "p_avg: 977.5   Maximizer: (952, 978)  Profit: 20.42\n",
      "p_avg: 978.0   Maximizer: (952, 978)  Profit: 20.42\n",
      "p_avg: 978.5   Maximizer: (953, 979)  Profit: 20.41\n",
      "p_avg: 979.0   Maximizer: (953, 979)  Profit: 20.41\n",
      "p_avg: 979.5   Maximizer: (953, 980)  Profit: 20.38\n",
      "p_avg: 980.0   Maximizer: (953, 980)  Profit: 20.38\n",
      "p_avg: 980.5   Maximizer: (954, 981)  Profit: 20.34\n",
      "p_avg: 981.0   Maximizer: (954, 981)  Profit: 20.34\n",
      "p_avg: 981.5   Maximizer: (955, 982)  Profit: 20.27\n",
      "p_avg: 982.0   Maximizer: (955, 982)  Profit: 20.27\n",
      "p_avg: 982.5   Maximizer: (955, 983)  Profit: 20.18\n",
      "p_avg: 983.0   Maximizer: (955, 983)  Profit: 20.18\n",
      "p_avg: 983.5   Maximizer: (956, 984)  Profit: 20.07\n",
      "p_avg: 984.0   Maximizer: (956, 984)  Profit: 20.07\n",
      "p_avg: 984.5   Maximizer: (957, 985)  Profit: 19.93\n",
      "p_avg: 985.0   Maximizer: (957, 985)  Profit: 19.93\n",
      "p_avg: 985.5   Maximizer: (957, 986)  Profit: 19.78\n",
      "p_avg: 986.0   Maximizer: (957, 986)  Profit: 19.78\n",
      "p_avg: 986.5   Maximizer: (958, 987)  Profit: 19.60\n",
      "p_avg: 987.0   Maximizer: (958, 987)  Profit: 19.60\n",
      "p_avg: 987.5   Maximizer: (959, 988)  Profit: 19.39\n",
      "p_avg: 988.0   Maximizer: (959, 988)  Profit: 19.39\n",
      "p_avg: 988.5   Maximizer: (959, 988)  Profit: 19.17\n",
      "p_avg: 989.0   Maximizer: (959, 989)  Profit: 19.16\n",
      "p_avg: 989.5   Maximizer: (960, 989)  Profit: 18.94\n",
      "p_avg: 990.0   Maximizer: (960, 990)  Profit: 18.90\n",
      "p_avg: 990.5   Maximizer: (960, 990)  Profit: 18.68\n",
      "p_avg: 991.0   Maximizer: (961, 991)  Profit: 18.62\n",
      "p_avg: 991.5   Maximizer: (961, 991)  Profit: 18.39\n",
      "p_avg: 992.0   Maximizer: (961, 992)  Profit: 18.31\n",
      "p_avg: 992.5   Maximizer: (962, 992)  Profit: 18.07\n",
      "p_avg: 993.0   Maximizer: (962, 993)  Profit: 17.97\n",
      "p_avg: 993.5   Maximizer: (962, 993)  Profit: 17.73\n",
      "p_avg: 994.0   Maximizer: (963, 994)  Profit: 17.61\n",
      "p_avg: 994.5   Maximizer: (963, 994)  Profit: 17.36\n",
      "p_avg: 995.0   Maximizer: (963, 995)  Profit: 17.21\n",
      "p_avg: 995.5   Maximizer: (964, 995)  Profit: 16.96\n",
      "p_avg: 996.0   Maximizer: (964, 996)  Profit: 16.79\n",
      "p_avg: 996.5   Maximizer: (964, 996)  Profit: 16.54\n",
      "p_avg: 997.0   Maximizer: (965, 997)  Profit: 16.34\n",
      "p_avg: 997.5   Maximizer: (965, 997)  Profit: 16.08\n",
      "p_avg: 998.0   Maximizer: (965, 998)  Profit: 15.86\n",
      "p_avg: 998.5   Maximizer: (966, 998)  Profit: 15.60\n",
      "p_avg: 999.0   Maximizer: (966, 999)  Profit: 15.35\n",
      "p_avg: 999.5   Maximizer: (966, 999)  Profit: 15.08\n"
     ]
    }
   ],
   "source": [
    "for p_avg in np.arange(977,1000,0.5):\n",
    "    argmax, val_max = solve(p_avg)\n",
    "    if len(argmax) > 1:\n",
    "        print(\"p_avg:\", p_avg, \"  Maximizers:\", argmax, \" Profit:\", f\"{val_max:.2f}\")\n",
    "    else:\n",
    "        print(\"p_avg:\", p_avg, \"  Maximizer:\", argmax[0], \" Profit:\", f\"{val_max:.2f}\")"
   ]
  },
  {
   "cell_type": "markdown",
   "id": "0d455e48-d994-4907-83e8-476eccefaaff",
   "metadata": {},
   "source": [
    "As long as $\\bar p \\leq 978$, optimal bids are the same as in Round 1.  \n",
    "When $\\bar p > 978$, the maximal profit decreases and the maximizers change as well.\n",
    "\n",
    "If all the teams seeked to maximize their own profit, they would all play $(952, 978)$."
   ]
  },
  {
   "cell_type": "markdown",
   "id": "d13528d0-63fc-403d-b151-9228e13778dc",
   "metadata": {},
   "source": [
    "# Results"
   ]
  },
  {
   "cell_type": "markdown",
   "id": "ae0a93dd-1fcb-4d52-8c60-a67dcb55f93b",
   "metadata": {},
   "source": [
    "As I expected $\\bar p$ to be slightly above $978$, I posited that $\\bar p = 979$ and played $(953, 979)$.\n",
    "\n",
    "<img src=\"https://i.imgur.com/gTAU4NX.png\" width=\"1200\" />\n",
    "\n",
    "The ex post value of $\\bar p$ was $980$."
   ]
  }
 ],
 "metadata": {
  "kernelspec": {
   "display_name": "Python 3 (ipykernel)",
   "language": "python",
   "name": "python3"
  },
  "language_info": {
   "codemirror_mode": {
    "name": "ipython",
    "version": 3
   },
   "file_extension": ".py",
   "mimetype": "text/x-python",
   "name": "python",
   "nbconvert_exporter": "python",
   "pygments_lexer": "ipython3",
   "version": "3.12.2"
  }
 },
 "nbformat": 4,
 "nbformat_minor": 5
}
