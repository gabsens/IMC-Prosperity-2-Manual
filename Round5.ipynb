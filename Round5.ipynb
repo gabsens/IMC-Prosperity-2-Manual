{
 "cells": [
  {
   "cell_type": "code",
   "execution_count": 1,
   "id": "15cd0e0f-5dcc-4485-9de5-8fed819c87a7",
   "metadata": {},
   "outputs": [],
   "source": [
    "from wolframclient.evaluation import WolframLanguageSession\n",
    "from wolframclient.language import wl, wlexpr\n",
    "import numpy as np\n",
    "import cvxpy as cp"
   ]
  },
  {
   "cell_type": "markdown",
   "id": "39a44d5e-82d8-4b4f-a3a9-4f43eb4180a6",
   "metadata": {},
   "source": [
    "# Problem statement\n",
    "\n",
    "You’ve been invited to trade on the exchange of the north archipelago for one day only. \n",
    "The penguins have granted you access to their trusted news source: Iceberg. \n",
    "You’ll find all the information you need right there. Be aware that trading these foreign goods comes at a price. \n",
    "The more you trade in one good, the more expensive it will get. \n",
    "You will earn or lose money depending on how the market moves and what positions you hold. You have the opportunity to trade all sorts of new goods against yesterday's prices, just in time before the exchange opens for a new day.  You need to predict price moves based on the provided information.\n",
    "This is the final stretch. Make it count! \n",
    "\n",
    "The initial available capital is 750000 SeaShells.\n",
    "\n",
    "The Iceberg news sheet is available [here](https://small.fileditchstuff.me/s10/OdyMAIkSTCnDHdAnfpwJ.pdf).\n",
    "\n",
    "Sample screenshot of the submission panel  \n",
    "<img src=\"https://i.imgur.com/AwkoTHM.png\" width=\"800\" />\n",
    "\n",
    "# Solution\n",
    "\n",
    "The proportion $\\pi_i$ (in $\\%$) allocated to asset $i$ has to be an integer. The fee for this investment is $-90 \\pi_i^2$.  \n",
    "Note that $\\pi_i$ can be negative, meaning that we take a short position in asset $i$.\n",
    "\n",
    "To each product we associate a sentiment that indicates the direction and the magnitude of the expected change in the asset price, after the news break.  \n",
    "Each sentiment is then mapped to a return value.\n",
    "\n",
    "Note that these sentiments and returns are chosen at my discretion and are therefore debatable. However, they are needed to obtain a somewhat systematic solution to this problem, instead of a completely discretionary one."
   ]
  },
  {
   "cell_type": "code",
   "execution_count": 2,
   "id": "3d45a36a-26c1-4e05-81cf-b33b94dc5d9a",
   "metadata": {},
   "outputs": [],
   "source": [
    "sentiments = {\n",
    "    'Refrigerators': '+',\n",
    "    'Earrings': '++',\n",
    "    'Blankets': '---',\n",
    "    'Sleds': '--',\n",
    "    'Sculptures': '++',\n",
    "    'PS6': '+++',\n",
    "    'Serum': '----',\n",
    "    'Lamps': '+',\n",
    "    'Chocolate': '-'\n",
    "}\n",
    "\n",
    "returns = {\n",
    "    '+': 0.05,\n",
    "    '++': 0.15,\n",
    "    '+++': 0.25,\n",
    "    '-': -0.05,\n",
    "    '--': -0.1,\n",
    "    '---': -0.4,\n",
    "    '----': -0.6\n",
    "}"
   ]
  },
  {
   "cell_type": "markdown",
   "id": "ecfe2e73-ad55-4c2d-8a2c-cfc7e01d8a6c",
   "metadata": {},
   "source": [
    "The portfolio optimization problem is\n",
    "$$\\max_{\\pi_1,\\ldots,\\pi_9\\in \\mathbb Z} \\quad \\sum_{i=1}^9 7500r_i \\pi_i  - 90 \\pi_i^2 \\quad \\text{under the constraint}\\quad  \\sum_{i=1}^9 |\\pi_i| \\leq 100,$$\n",
    "where $r_i$ denotes the return anticipated for asset $i$.\n",
    "\n",
    "Without the integer constraints, the problem fits the framework of convex optimization.  \n",
    "Below, we use `cvxpy` to obtain the solution without integer constraints."
   ]
  },
  {
   "cell_type": "code",
   "execution_count": 3,
   "id": "c2efeb85-7c2a-4a28-a863-9efb0cb7d691",
   "metadata": {},
   "outputs": [
    {
     "name": "stdout",
     "output_type": "stream",
     "text": [
      "Optimal allocation without integer constraints:\n",
      "Position in Refrigerators: 2.08%\n",
      "Position in Earrings: 6.25%\n",
      "Position in Blankets: -16.67%\n",
      "Position in Sleds: -4.17%\n",
      "Position in Sculptures: 6.25%\n",
      "Position in PS6: 10.42%\n",
      "Position in Serum: -25.00%\n",
      "Position in Lamps: 2.08%\n",
      "Position in Chocolate: -2.08%\n"
     ]
    }
   ],
   "source": [
    "rets = np.array([returns[sentiments[list(sentiments.keys())[i-1]]] for i in range(1,10)])\n",
    "pi = cp.Variable(9)\n",
    "objective = cp.Minimize(90 * cp.sum_squares(pi) - 7500 * rets.T @ pi)\n",
    "constraints = [cp.norm(pi, 1) <= 100]\n",
    "prob = cp.Problem(objective, constraints)\n",
    "\n",
    "prob.solve()\n",
    "print('Optimal allocation without integer constraints:')\n",
    "for i in range(9):\n",
    "    print(\"Position in \", list(sentiments.keys())[i], ': ', f\"{pi.value[i]:,.2f}\", '%', sep='')"
   ]
  },
  {
   "cell_type": "markdown",
   "id": "96af8bbf-953e-4377-95f6-be215854eb93",
   "metadata": {},
   "source": [
    "We use Mathematica below to numerically solve the fully constrained problem."
   ]
  },
  {
   "cell_type": "code",
   "execution_count": 4,
   "id": "8a403405-c988-4301-b67c-645889047148",
   "metadata": {},
   "outputs": [],
   "source": [
    "#building blocks for the Mathematica command\n",
    "s1 = ' + '.join(['('+str(returns[sentiments[list(sentiments.keys())[i-1]]])+')*p'+str(i)+'*7500-90*(p'+str(i)+')^2' for i in range(1,10)])\n",
    "s2 = ' + '.join(['Abs[p'+str(i)+']' for i in range(1,10)]) + '<=100,'\n",
    "s3 = ', '.join(['Element[p'+str(i)+', Integers]' for i in range(1,10)])\n",
    "s4 = ', '.join(['p'+str(i) for i in range(1,10)])"
   ]
  },
  {
   "cell_type": "code",
   "execution_count": 5,
   "id": "51aa08c7-f292-491c-902d-c3dd3c4c164a",
   "metadata": {},
   "outputs": [
    {
     "data": {
      "text/plain": [
       "'NMaximize[{(0.05)*p1*7500-90*(p1)^2 + (0.15)*p2*7500-90*(p2)^2 + (-0.4)*p3*7500-90*(p3)^2 + (-0.1)*p4*7500-90*(p4)^2 + (0.15)*p5*7500-90*(p5)^2 + (0.25)*p6*7500-90*(p6)^2 + (-0.6)*p7*7500-90*(p7)^2 + (0.05)*p8*7500-90*(p8)^2 + (-0.05)*p9*7500-90*(p9)^2,Abs[p1] + Abs[p2] + Abs[p3] + Abs[p4] + Abs[p5] + Abs[p6] + Abs[p7] + Abs[p8] + Abs[p9]<=100,Element[p1, Integers], Element[p2, Integers], Element[p3, Integers], Element[p4, Integers], Element[p5, Integers], Element[p6, Integers], Element[p7, Integers], Element[p8, Integers], Element[p9, Integers]}, {p1, p2, p3, p4, p5, p6, p7, p8, p9}]'"
      ]
     },
     "execution_count": 5,
     "metadata": {},
     "output_type": "execute_result"
    }
   ],
   "source": [
    "#Mathematica command\n",
    "'NMaximize[{'+s1+','+s2+s3+'}, {'+s4+'}]'"
   ]
  },
  {
   "cell_type": "code",
   "execution_count": 6,
   "id": "10284261-c9e3-420f-8114-b877b0d7b68e",
   "metadata": {},
   "outputs": [
    {
     "name": "stderr",
     "output_type": "stream",
     "text": [
      "Failed to converge to the requested accuracy or precision within 100 iterations.\n",
      "Failed to converge to the requested accuracy or precision within 100 iterations.\n"
     ]
    }
   ],
   "source": [
    "session = WolframLanguageSession()\n",
    "val_max, sol = session.evaluate(wlexpr('NMaximize[{'+s1+','+s2+s3+'}, {'+s4+'}]'))"
   ]
  },
  {
   "cell_type": "code",
   "execution_count": 7,
   "id": "a1ee3ad8-db75-40ef-b3e8-6d1bd8c84b7f",
   "metadata": {},
   "outputs": [
    {
     "name": "stdout",
     "output_type": "stream",
     "text": [
      "Maximum profit achievable: 100740.0\n"
     ]
    }
   ],
   "source": [
    "print(\"Maximum profit achievable:\", val_max)"
   ]
  },
  {
   "cell_type": "code",
   "execution_count": 8,
   "id": "ba065ef4-159a-4d41-ad36-0d61902776c3",
   "metadata": {},
   "outputs": [
    {
     "name": "stdout",
     "output_type": "stream",
     "text": [
      "Percentage of capital used: 74%\n"
     ]
    }
   ],
   "source": [
    "print(\"Percentage of capital used: \", sum([abs(el[1]) for el in sol]), '%', sep='')"
   ]
  },
  {
   "cell_type": "code",
   "execution_count": 9,
   "id": "28f65606-7a4a-47a1-be4f-857dafb9855a",
   "metadata": {},
   "outputs": [
    {
     "name": "stdout",
     "output_type": "stream",
     "text": [
      "Position in Refrigerators: 2%\n",
      "Position in Earrings: 6%\n",
      "Position in Blankets: -17%\n",
      "Position in Sleds: -4%\n",
      "Position in Sculptures: 6%\n",
      "Position in PS6: 10%\n",
      "Position in Serum: -25%\n",
      "Position in Lamps: 2%\n",
      "Position in Chocolate: -2%\n"
     ]
    }
   ],
   "source": [
    "for i in range(9):\n",
    "    print(\"Position in \", list(sentiments.keys())[i], ': ', sol[i][1], '%', sep='')"
   ]
  },
  {
   "cell_type": "markdown",
   "id": "4476b6c2-4f21-4da2-9594-4ef9d947831b",
   "metadata": {},
   "source": [
    "Values returned by Mathematica are consistent with those found using `cvxpy`.  \n",
    "Convergence warnings are therefore not a problem."
   ]
  },
  {
   "cell_type": "markdown",
   "id": "18b4b381-8bf7-45b7-a17d-bc1bbd6b5288",
   "metadata": {},
   "source": [
    "# Results\n",
    "Our picks performed better than expected, yielding a profit close to 141 000 SeaShells.\n",
    "\n",
    "<img src=\"https://i.imgur.com/1I4WP0K.png\" width=\"1000\" />"
   ]
  },
  {
   "cell_type": "markdown",
   "id": "e4c59599-b963-48a0-b425-258303ecaea8",
   "metadata": {},
   "source": [
    "Inspecting the json response from the site yields some more precise PNL data for each product, which we incorporate below."
   ]
  },
  {
   "cell_type": "code",
   "execution_count": 10,
   "id": "bb7776e5-7b9e-4443-a1b5-e21215a9fe3b",
   "metadata": {},
   "outputs": [],
   "source": [
    "pnls = {'Refrigerators': -49.29827880859375,\n",
    "        'Earrings': 2325.331298828125,\n",
    "        'Blankets': 15922.716796875,\n",
    "        'Sleds': 7048.611328125,\n",
    "        'Sculptures': 5596.8427734375,\n",
    "        'PS6': 14216.5927734375,\n",
    "        'Serum': 96703.71875,\n",
    "        'Lamps': -359.08447265625,\n",
    "        'Chocolate': -353.9310607910156}"
   ]
  },
  {
   "cell_type": "markdown",
   "id": "0ebb87d7-3389-4f08-9933-fa7c4e12800b",
   "metadata": {},
   "source": [
    "From there we reverse engineer the true return for each product."
   ]
  },
  {
   "cell_type": "code",
   "execution_count": 11,
   "id": "c0b5ba1a-7b04-4321-8024-1e1850f2ea28",
   "metadata": {},
   "outputs": [
    {
     "name": "stdout",
     "output_type": "stream",
     "text": [
      "True return for each product:\n"
     ]
    },
    {
     "data": {
      "text/plain": [
       "{'Refrigerators': 0.020713448079427082,\n",
       " 'Earrings': 0.12367402886284722,\n",
       " 'Blankets': -0.32888405330882353,\n",
       " 'Sleds': -0.2829537109375,\n",
       " 'Sculptures': 0.19637428385416666,\n",
       " 'PS6': 0.3095545703125,\n",
       " 'Serum': -0.8157531666666666,\n",
       " 'Lamps': 6.103515625e-05,\n",
       " 'Chocolate': -0.000404595947265625}"
      ]
     },
     "execution_count": 11,
     "metadata": {},
     "output_type": "execute_result"
    }
   ],
   "source": [
    "rets_true = {list(sentiments.keys())[i]: (pnls[list(sentiments.keys())[i]] + 90*sol[i][1]**2)/(7500*sol[i][1]) for i in range(9)}\n",
    "print(\"True return for each product:\")\n",
    "rets_true"
   ]
  },
  {
   "cell_type": "markdown",
   "id": "c00e07ad-136a-4adf-b7ca-bc4fc273fdf3",
   "metadata": {},
   "source": [
    "For instance, the true return for serum was close to -81.6%.\n",
    "\n",
    "As above we use Mathematica to find the optimal ex-post allocation."
   ]
  },
  {
   "cell_type": "code",
   "execution_count": 12,
   "id": "278fc7b5-b4f6-4b4e-82c2-e8b40ea0bf65",
   "metadata": {},
   "outputs": [
    {
     "name": "stderr",
     "output_type": "stream",
     "text": [
      "Failed to converge to the requested accuracy or precision within 100 iterations.\n",
      "Failed to converge to the requested accuracy or precision within 100 iterations.\n"
     ]
    }
   ],
   "source": [
    "s1 = ' + '.join(['('+'{:.20f}'.format(rets_true[list(sentiments.keys())[i-1]])+')*p'+str(i)+'*7500-90*(p'+str(i)+')^2' for i in range(1,10)])\n",
    "s2 = ' + '.join(['Abs[p'+str(i)+']' for i in range(1,10)]) + '<=100,'\n",
    "s3 = ', '.join(['Element[p'+str(i)+', Integers]' for i in range(1,10)])\n",
    "s4 = ', '.join(['p'+str(i) for i in range(1,10)])\n",
    "\n",
    "session = WolframLanguageSession()\n",
    "val_max, sol = session.evaluate(wlexpr('NMaximize[{'+s1+','+s2+s3+'}, {'+s4+'}]'))"
   ]
  },
  {
   "cell_type": "code",
   "execution_count": 13,
   "id": "13c42f48-7ed4-400e-b3fd-000c20887eb2",
   "metadata": {},
   "outputs": [
    {
     "name": "stdout",
     "output_type": "stream",
     "text": [
      "Maximum profit achievable: 156823\n",
      "Share of capital used: 87%\n",
      "Position in Refrigerators: 1%\n",
      "Position in Earrings: 5%\n",
      "Position in Blankets: -14%\n",
      "Position in Sleds: -12%\n",
      "Position in Sculptures: 8%\n",
      "Position in PS6: 13%\n",
      "Position in Serum: -34%\n",
      "Position in Lamps: 0%\n",
      "Position in Chocolate: 0%\n"
     ]
    }
   ],
   "source": [
    "print(\"Maximum profit achievable:\", f\"{val_max:.0f}\")\n",
    "print(\"Share of capital used: \", sum([abs(el[1]) for el in sol]), '%', sep='')\n",
    "for i in range(9):\n",
    "    print(\"Position in \", list(sentiments.keys())[i], ': ', sol[i][1], '%', sep='')"
   ]
  },
  {
   "cell_type": "code",
   "execution_count": null,
   "id": "d4aff9af-0558-4d78-899f-631d3ca24ed4",
   "metadata": {},
   "outputs": [],
   "source": []
  }
 ],
 "metadata": {
  "kernelspec": {
   "display_name": "Python 3 (ipykernel)",
   "language": "python",
   "name": "python3"
  },
  "language_info": {
   "codemirror_mode": {
    "name": "ipython",
    "version": 3
   },
   "file_extension": ".py",
   "mimetype": "text/x-python",
   "name": "python",
   "nbconvert_exporter": "python",
   "pygments_lexer": "ipython3",
   "version": "3.12.2"
  }
 },
 "nbformat": 4,
 "nbformat_minor": 5
}
